{
 "cells": [
  {
   "cell_type": "code",
   "execution_count": 2,
   "id": "4aa2439c-00da-4b94-af0a-215cbdf51cfd",
   "metadata": {},
   "outputs": [
    {
     "name": "stdout",
     "output_type": "stream",
     "text": [
      "--------------- Welcome to State Bank of India ---------------\n",
      "\n",
      "Menu Options\n",
      "Press 1 to open an account\n",
      "Press 2 to view account details\n",
      "Press 3 to withdraw/deposit/transfer\n",
      "Press 4 to view transaction history\n",
      "Press 5 to exit the program\n"
     ]
    },
    {
     "name": "stdin",
     "output_type": "stream",
     "text": [
      "Enter your choice (1 to 5):  1\n",
      "Enter PAN card number:  KGNFF7412G\n",
      "Enter the account holder name:  MARCOS SMITH\n",
      "Account type (Savings/Current):  Saving\n",
      "Enter initial deposit:  3000\n"
     ]
    },
    {
     "name": "stdout",
     "output_type": "stream",
     "text": [
      "\n",
      "Account created successfully!\n",
      "Account Number: 38810607933\n",
      "\n",
      "------------------------------------------------------------\n",
      "\n",
      "Menu Options\n",
      "Press 1 to open an account\n",
      "Press 2 to view account details\n",
      "Press 3 to withdraw/deposit/transfer\n",
      "Press 4 to view transaction history\n",
      "Press 5 to exit the program\n"
     ]
    },
    {
     "name": "stdin",
     "output_type": "stream",
     "text": [
      "Enter your choice (1 to 5):  3\n"
     ]
    },
    {
     "name": "stdout",
     "output_type": "stream",
     "text": [
      "\n",
      "Transaction Options:\n",
      "Press 1 to withdraw\n",
      "Press 2 to deposit\n",
      "Press 3 to transfer\n",
      "------------------------------------------------------------\n"
     ]
    },
    {
     "name": "stdin",
     "output_type": "stream",
     "text": [
      "Enter your choice (1, 2, or 3):  2\n",
      "Enter PAN card number:  KGNFF7412G\n",
      "Enter the amount you wish to deposit:  12000\n"
     ]
    },
    {
     "name": "stdout",
     "output_type": "stream",
     "text": [
      "Deposit successful!\n",
      "------------------------------------------------------------\n",
      "\n",
      "Menu Options\n",
      "Press 1 to open an account\n",
      "Press 2 to view account details\n",
      "Press 3 to withdraw/deposit/transfer\n",
      "Press 4 to view transaction history\n",
      "Press 5 to exit the program\n"
     ]
    },
    {
     "name": "stdin",
     "output_type": "stream",
     "text": [
      "Enter your choice (1 to 5):  3\n"
     ]
    },
    {
     "name": "stdout",
     "output_type": "stream",
     "text": [
      "\n",
      "Transaction Options:\n",
      "Press 1 to withdraw\n",
      "Press 2 to deposit\n",
      "Press 3 to transfer\n",
      "------------------------------------------------------------\n"
     ]
    },
    {
     "name": "stdin",
     "output_type": "stream",
     "text": [
      "Enter your choice (1, 2, or 3):  1\n",
      "Enter PAN card number:  KGNFF7412G\n",
      "Enter the amount you wish to withdraw:  5000\n"
     ]
    },
    {
     "name": "stdout",
     "output_type": "stream",
     "text": [
      "\n",
      "Withdrawal successful!\n",
      "------------------------------------------------------------\n",
      "\n",
      "Menu Options\n",
      "Press 1 to open an account\n",
      "Press 2 to view account details\n",
      "Press 3 to withdraw/deposit/transfer\n",
      "Press 4 to view transaction history\n",
      "Press 5 to exit the program\n"
     ]
    },
    {
     "name": "stdin",
     "output_type": "stream",
     "text": [
      "Enter your choice (1 to 5):  3\n"
     ]
    },
    {
     "name": "stdout",
     "output_type": "stream",
     "text": [
      "\n",
      "Transaction Options:\n",
      "Press 1 to withdraw\n",
      "Press 2 to deposit\n",
      "Press 3 to transfer\n",
      "------------------------------------------------------------\n"
     ]
    },
    {
     "name": "stdin",
     "output_type": "stream",
     "text": [
      "Enter your choice (1, 2, or 3):  3\n",
      "Enter your PAN card number:  KGNFF7412G\n",
      "Enter the amount you wish to transfer:  5000\n"
     ]
    },
    {
     "name": "stdout",
     "output_type": "stream",
     "text": [
      "Transfer successful!\n",
      "Remaining Balance: 5000.0\n",
      "------------------------------------------------------------\n",
      "\n",
      "Menu Options\n",
      "Press 1 to open an account\n",
      "Press 2 to view account details\n",
      "Press 3 to withdraw/deposit/transfer\n",
      "Press 4 to view transaction history\n",
      "Press 5 to exit the program\n"
     ]
    },
    {
     "name": "stdin",
     "output_type": "stream",
     "text": [
      "Enter your choice (1 to 5):  2\n",
      "Enter PAN card number:  KGNFF7412G\n"
     ]
    },
    {
     "name": "stdout",
     "output_type": "stream",
     "text": [
      "\n",
      "Your account details:\n",
      "Account Holder's Name: MARCOS SMITH\n",
      "Account Type         : Saving\n",
      "Account Number       : 38810607933\n",
      "Total Balance        : 5000.0\n",
      "------------------------------------------------------------\n",
      "\n",
      "Menu Options\n",
      "Press 1 to open an account\n",
      "Press 2 to view account details\n",
      "Press 3 to withdraw/deposit/transfer\n",
      "Press 4 to view transaction history\n",
      "Press 5 to exit the program\n"
     ]
    },
    {
     "name": "stdin",
     "output_type": "stream",
     "text": [
      "Enter your choice (1 to 5):  4\n",
      "Enter PAN card number to view transaction history:  KGNFF7412G\n"
     ]
    },
    {
     "name": "stdout",
     "output_type": "stream",
     "text": [
      "\n",
      "Transaction history:\n",
      "Date & Time: 2025-01-14 15:39:57, Amount: 12000.0, Type: credited, Balance: 15000.0\n",
      "------------------------------------------------------------------------------------------\n",
      "Date & Time: 2025-01-14 15:40:18, Amount: 5000.0, Type: debited, Balance: 10000.0\n",
      "------------------------------------------------------------------------------------------\n",
      "Date & Time: 2025-01-14 15:40:49, Amount: 5000.0, Type: debited, Balance: 5000.0\n",
      "------------------------------------------------------------------------------------------\n",
      "\n",
      "Menu Options\n",
      "Press 1 to open an account\n",
      "Press 2 to view account details\n",
      "Press 3 to withdraw/deposit/transfer\n",
      "Press 4 to view transaction history\n",
      "Press 5 to exit the program\n"
     ]
    },
    {
     "name": "stdin",
     "output_type": "stream",
     "text": [
      "Enter your choice (1 to 5):  5\n"
     ]
    },
    {
     "name": "stdout",
     "output_type": "stream",
     "text": [
      "Saving account data and transaction history...\n",
      "Thank you for banking with us! Have a Nice Day!\n",
      "------------------------------------------------------------------------------------------\n"
     ]
    }
   ],
   "source": [
    "import random\n",
    "import datetime as dt\n",
    "import pickle\n",
    "\n",
    "# Load account data and transactions from files if they exist\n",
    "try:\n",
    "    # Try to open existing data files to load previously saved account details and transactions\n",
    "    with open('account_data.pkl', 'rb') as file:\n",
    "        account_details = pickle.load(file)  # Load account details dictionary\n",
    "        transactions = pickle.load(file)    # Load transactions dictionary\n",
    "except FileNotFoundError:\n",
    "    # If files do not exist, initialize empty dictionaries\n",
    "    account_details = {}\n",
    "    transactions = {}\n",
    "\n",
    "# Welcome message\n",
    "print(\"-\" * 15, \"Welcome to State Bank of India\", \"-\" * 15)\n",
    "\n",
    "# Main menu loop\n",
    "while True:\n",
    "    print(\"\\nMenu Options\")\n",
    "    print(\"\"\"Press 1 to open an account\n",
    "Press 2 to view account details\n",
    "Press 3 to withdraw/deposit/transfer\n",
    "Press 4 to view transaction history\n",
    "Press 5 to exit the program\"\"\")\n",
    "    \n",
    "    # Get user's menu choice\n",
    "    choice = int(input(\"Enter your choice (1 to 5): \"))\n",
    "    \n",
    "    if choice == 1:\n",
    "        # Option 1: Open a new account\n",
    "        pan_card = input('Enter PAN card number: ')\n",
    "        account_holder_name = input('Enter the account holder name: ')\n",
    "        account_type = input('Account type (Savings/Current): ')\n",
    "        initial_deposit = float(input(\"Enter initial deposit: \"))\n",
    "        \n",
    "        # Generate a unique account number\n",
    "        account_no = \"3881060\" + str(random.randint(1000, 9999))\n",
    "        while account_no in account_details.values():\n",
    "            account_no = \"3881060\" + str(random.randint(1000, 9999))\n",
    "        \n",
    "        # Store account details in the dictionary\n",
    "        account_details[pan_card] = [account_holder_name, account_type, initial_deposit, account_no]\n",
    "        \n",
    "        print(\"\\nAccount created successfully!\")\n",
    "        print(f\"Account Number: {account_no}\\n\")\n",
    "        print(\"-\" * 60)\n",
    "\n",
    "    elif choice == 2:\n",
    "        # Option 2: View account details\n",
    "        ask_pan = input('Enter PAN card number: ')\n",
    "        if ask_pan in account_details:\n",
    "            print(\"\\nYour account details:\")\n",
    "            print(f\"Account Holder's Name: {account_details[ask_pan][0]}\")\n",
    "            print(f\"Account Type         : {account_details[ask_pan][1]}\")\n",
    "            print(f\"Account Number       : {account_details[ask_pan][3]}\")\n",
    "            print(f\"Total Balance        : {account_details[ask_pan][2]}\")\n",
    "            print(\"-\" * 60)\n",
    "        else:\n",
    "            print(\"Account not found. Please check the PAN card number.\")\n",
    "\n",
    "    elif choice == 3:\n",
    "        # Option 3: Perform a transaction (withdraw, deposit, or transfer)\n",
    "        print(\"\"\"\\nTransaction Options:\n",
    "Press 1 to withdraw\n",
    "Press 2 to deposit\n",
    "Press 3 to transfer\"\"\")\n",
    "        print(\"-\" * 60)\n",
    "        n_choice = int(input(\"Enter your choice (1, 2, or 3): \"))\n",
    "        \n",
    "        if n_choice == 1:  # Withdrawal\n",
    "            ask_pan = input(\"Enter PAN card number: \")\n",
    "            if ask_pan in account_details:\n",
    "                amount = float(input(\"Enter the amount you wish to withdraw: \"))\n",
    "                if amount > account_details[ask_pan][2]:\n",
    "                    print(\"Insufficient funds. The money in your account is not enough.\")\n",
    "                else:\n",
    "                    account_details[ask_pan][2] -= amount  # Deduct amount from balance\n",
    "                    timestamp = dt.datetime.now().strftime('%Y-%m-%d %H:%M:%S')\n",
    "                    transaction_data = [amount, \"debited\", account_details[ask_pan][2]]\n",
    "                    \n",
    "                    # Record transaction details\n",
    "                    if ask_pan not in transactions:\n",
    "                        transactions[ask_pan] = {}\n",
    "                    transactions[ask_pan][timestamp] = transaction_data\n",
    "                    \n",
    "                    print(\"\\nWithdrawal successful!\")\n",
    "                    print(\"-\" * 60)\n",
    "            else:\n",
    "                print(\"Account not found. Please check the PAN card number.\")\n",
    "                \n",
    "        elif n_choice == 2:  # Deposit\n",
    "            ask_pan = input(\"Enter PAN card number: \")\n",
    "            if ask_pan in account_details:\n",
    "                amount = float(input(\"Enter the amount you wish to deposit: \"))\n",
    "                account_details[ask_pan][2] += amount  # Add amount to balance\n",
    "                timestamp = dt.datetime.now().strftime('%Y-%m-%d %H:%M:%S')\n",
    "                transaction_data = [amount, \"credited\", account_details[ask_pan][2]]\n",
    "                \n",
    "                # Record transaction details\n",
    "                if ask_pan not in transactions:\n",
    "                    transactions[ask_pan] = {}\n",
    "                transactions[ask_pan][timestamp] = transaction_data\n",
    "                \n",
    "                print(\"Deposit successful!\")\n",
    "                print(\"-\" * 60)\n",
    "            else:\n",
    "                print(\"Account not found. Please check the PAN card number.\")\n",
    "                \n",
    "        elif n_choice == 3:  # Transfer\n",
    "            sender_pan = input(\"Enter your PAN card number: \")\n",
    "            if sender_pan in account_details:\n",
    "                amount = float(input(\"Enter the amount you wish to transfer: \"))\n",
    "                if amount > account_details[sender_pan][2]:\n",
    "                    print(\"Insufficient funds for the transfer.\")\n",
    "                else:\n",
    "                    # Deduct amount from sender's account\n",
    "                    account_details[sender_pan][2] -= amount\n",
    "                    timestamp = dt.datetime.now().strftime('%Y-%m-%d %H:%M:%S')\n",
    "                    \n",
    "                    # Record sender's transaction\n",
    "                    transaction_data_sender = [amount, \"debited\", account_details[sender_pan][2]]\n",
    "                    if sender_pan not in transactions:\n",
    "                        transactions[sender_pan] = {}\n",
    "                    transactions[sender_pan][timestamp] = transaction_data_sender\n",
    "                    \n",
    "                    print(\"Transfer successful!\")\n",
    "                    print(f\"Remaining Balance: {account_details[sender_pan][2]}\")\n",
    "                    print(\"-\" * 60)\n",
    "            else:\n",
    "                print(\"Account not found. Please check the PAN card number.\")\n",
    "                \n",
    "    elif choice == 4:\n",
    "        # Option 4: View transaction history\n",
    "        ask_pan = input(\"Enter PAN card number to view transaction history: \")\n",
    "        if ask_pan in transactions:\n",
    "            print(\"\\nTransaction history:\")\n",
    "            for timestamp, data in sorted(transactions[ask_pan].items()):\n",
    "                print(f\"Date & Time: {timestamp}, Amount: {data[0]}, Type: {data[1]}, Balance: {data[2]}\")\n",
    "                print(\"-\" * 90)\n",
    "        else:\n",
    "            print(\"No transaction history available for this account.\")\n",
    "            \n",
    "    elif choice == 5:\n",
    "        # Option 5: Exit the program and save data\n",
    "        print(\"Saving account data and transaction history...\")\n",
    "        \n",
    "        # Save account details and transactions to a file\n",
    "        with open('account_data.pkl', 'wb') as file:\n",
    "            pickle.dump(account_details, file)\n",
    "            pickle.dump(transactions, file)\n",
    "        \n",
    "        print(\"Thank you for banking with us! Have a Nice Day!\")\n",
    "        print(\"-\" * 90)\n",
    "        break\n"
   ]
  },
  {
   "cell_type": "code",
   "execution_count": null,
   "id": "333d1562-0f25-4ada-90bf-c50efa5db754",
   "metadata": {},
   "outputs": [],
   "source": []
  }
 ],
 "metadata": {
  "kernelspec": {
   "display_name": "Python 3 (ipykernel)",
   "language": "python",
   "name": "python3"
  },
  "language_info": {
   "codemirror_mode": {
    "name": "ipython",
    "version": 3
   },
   "file_extension": ".py",
   "mimetype": "text/x-python",
   "name": "python",
   "nbconvert_exporter": "python",
   "pygments_lexer": "ipython3",
   "version": "3.11.5"
  }
 },
 "nbformat": 4,
 "nbformat_minor": 5
}
